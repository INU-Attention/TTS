{
 "cells": [
  {
   "cell_type": "markdown",
   "id": "49188204-7401-44c6-8b29-8f7090c847b2",
   "metadata": {},
   "source": [
    "# 학습코드"
   ]
  },
  {
   "cell_type": "code",
   "execution_count": 13,
   "id": "d83e5ea3-a190-453d-bfc9-e64f542b5170",
   "metadata": {},
   "outputs": [
    {
     "ename": "ImportError",
     "evalue": "cannot import name 'I2VEncoder' from 'TTS.encoder.models' (unknown location)",
     "output_type": "error",
     "traceback": [
      "\u001b[0;31m---------------------------------------------------------------------------\u001b[0m",
      "\u001b[0;31mImportError\u001b[0m                               Traceback (most recent call last)",
      "Cell \u001b[0;32mIn[13], line 9\u001b[0m\n\u001b[1;32m      7\u001b[0m \u001b[38;5;28;01mfrom\u001b[39;00m \u001b[38;5;21;01mtorchvision\u001b[39;00m\u001b[38;5;21;01m.\u001b[39;00m\u001b[38;5;21;01mtransforms\u001b[39;00m \u001b[38;5;28;01mimport\u001b[39;00m Compose, Resize, CenterCrop, ToTensor, Normalize\n\u001b[1;32m      8\u001b[0m \u001b[38;5;28;01mfrom\u001b[39;00m \u001b[38;5;21;01mPIL\u001b[39;00m \u001b[38;5;28;01mimport\u001b[39;00m Image\n\u001b[0;32m----> 9\u001b[0m \u001b[38;5;28;01mfrom\u001b[39;00m \u001b[38;5;21;01mTTS\u001b[39;00m\u001b[38;5;21;01m.\u001b[39;00m\u001b[38;5;21;01mencoder\u001b[39;00m\u001b[38;5;21;01m.\u001b[39;00m\u001b[38;5;21;01mmodels\u001b[39;00m \u001b[38;5;28;01mimport\u001b[39;00m I2VEncoder\n",
      "\u001b[0;31mImportError\u001b[0m: cannot import name 'I2VEncoder' from 'TTS.encoder.models' (unknown location)"
     ]
    }
   ],
   "source": [
    "import os\n",
    "import glob\n",
    "import random\n",
    "import torch.nn as nn\n",
    "import torch.optim as optim\n",
    "from torch.utils.data import DataLoader\n",
    "from torchvision.transforms import Compose, Resize, CenterCrop, ToTensor, Normalize\n",
    "from PIL import Image\n",
    "\n",
    "from TTS.encoder.models import I2VEncoder"
   ]
  },
  {
   "cell_type": "code",
   "execution_count": 14,
   "id": "dd0b70d5-2d88-4bff-b0be-520db825813d",
   "metadata": {},
   "outputs": [
    {
     "ename": "NameError",
     "evalue": "name 'torch' is not defined",
     "output_type": "error",
     "traceback": [
      "\u001b[0;31m---------------------------------------------------------------------------\u001b[0m",
      "\u001b[0;31mNameError\u001b[0m                                 Traceback (most recent call last)",
      "Cell \u001b[0;32mIn[14], line 1\u001b[0m\n\u001b[0;32m----> 1\u001b[0m \u001b[38;5;28;01mclass\u001b[39;00m \u001b[38;5;21;01mCustomDataset\u001b[39;00m(\u001b[43mtorch\u001b[49m\u001b[38;5;241m.\u001b[39mutils\u001b[38;5;241m.\u001b[39mdata\u001b[38;5;241m.\u001b[39mDataset):\n\u001b[1;32m      2\u001b[0m     \u001b[38;5;28;01mdef\u001b[39;00m \u001b[38;5;21m__init__\u001b[39m(\u001b[38;5;28mself\u001b[39m, image_paths, audio_embeddings, transforms\u001b[38;5;241m=\u001b[39m\u001b[38;5;28;01mNone\u001b[39;00m):\n\u001b[1;32m      3\u001b[0m         \u001b[38;5;28mself\u001b[39m\u001b[38;5;241m.\u001b[39mimage_paths \u001b[38;5;241m=\u001b[39m image_paths\n",
      "\u001b[0;31mNameError\u001b[0m: name 'torch' is not defined"
     ]
    }
   ],
   "source": [
    "class CustomDataset(torch.utils.data.Dataset):\n",
    "    def __init__(self, image_paths, audio_embeddings, transforms=None):\n",
    "        self.image_paths = image_paths\n",
    "        self.audio_embeddings = audio_embeddings\n",
    "        self.transforms = transforms\n",
    "\n",
    "    def __len__(self):\n",
    "        return len(self.image_paths)\n",
    "\n",
    "    def __getitem__(self, idx):\n",
    "        image_path = self.image_paths[idx]\n",
    "        character = \"Bill Williamson\" \n",
    "\n",
    "        image = load_image(image_path)\n",
    "        if self.transforms:\n",
    "            image = self.transforms(image)\n",
    "\n",
    "        audio_embedding = self.audio_embeddings.get(character)\n",
    "        if audio_embedding is None:\n",
    "            raise ValueError(f\"No audio embedding found for {character}\")\n",
    "\n",
    "        return image, audio_embedding"
   ]
  },
  {
   "cell_type": "code",
   "execution_count": 15,
   "id": "a4b309a5-f47f-465f-8a3f-fa95b3fc19f4",
   "metadata": {},
   "outputs": [],
   "source": [
    "def load_image(image_path):\n",
    "    image = Image.open(image_path).convert(\"RGB\")\n",
    "    transform = Compose([\n",
    "        ToTensor(),  # 이미지를 [0, 1] 범위의 텐서로 변환\n",
    "    ])\n",
    "    return transform(image)\n",
    "    \n",
    "def get_image_paths(root_dir, character_name):\n",
    "    pattern = os.path.join(root_dir, \"RedDeadRedemption2\", character_name, \"Image\", \"*.jpg\")\n",
    "    return glob.glob(pattern)\n",
    "\n",
    "def get_audio_embeddings(root_dir, character_name):\n",
    "    audio_files = glob.glob(os.path.join(root_dir, \"RedDeadRedemption2\", character_name, \"speaker_embedding\", \"*.pt\"))\n",
    "    if audio_files:\n",
    "        return {character_name: audio_files}\n",
    "    return {}\n",
    "    \n",
    "def encode_images(images):\n",
    "    inputs = clip_processor(images=images, return_tensors=\"pt\")\n",
    "    outputs = clip_model.get_image_features(**inputs)\n",
    "    return outputs\n"
   ]
  },
  {
   "cell_type": "code",
   "execution_count": 16,
   "id": "8c0d9981-d8fb-49f3-9a6e-a5f3d68fd434",
   "metadata": {},
   "outputs": [
    {
     "name": "stdout",
     "output_type": "stream",
     "text": [
      "/home/jupyter-pjh/TTS/notebooks\n"
     ]
    }
   ],
   "source": [
    "!pwd"
   ]
  },
  {
   "cell_type": "code",
   "execution_count": 17,
   "id": "4d6b8563-edaa-48ea-9d73-70ec54bef4ce",
   "metadata": {},
   "outputs": [
    {
     "ename": "NameError",
     "evalue": "name 'I2VEncoder' is not defined",
     "output_type": "error",
     "traceback": [
      "\u001b[0;31m---------------------------------------------------------------------------\u001b[0m",
      "\u001b[0;31mNameError\u001b[0m                                 Traceback (most recent call last)",
      "Cell \u001b[0;32mIn[17], line 1\u001b[0m\n\u001b[0;32m----> 1\u001b[0m encoder \u001b[38;5;241m=\u001b[39m \u001b[43mI2VEncoder\u001b[49m()\n\u001b[1;32m      2\u001b[0m encoder\u001b[38;5;241m.\u001b[39mload_checkpoint({PATH})\n\u001b[1;32m      4\u001b[0m criterion \u001b[38;5;241m=\u001b[39m nn\u001b[38;5;241m.\u001b[39mCosineSimilarity(dim\u001b[38;5;241m=\u001b[39m\u001b[38;5;241m1\u001b[39m)\n",
      "\u001b[0;31mNameError\u001b[0m: name 'I2VEncoder' is not defined"
     ]
    }
   ],
   "source": [
    "encoder = I2VEncoder()\n",
    "encoder.load_checkpoint({PATH})\n",
    "\n",
    "criterion = nn.CosineSimilarity(dim=1)\n",
    "optimizer = optim.Adam(clip_model.parameters(), lr=0.001)\n",
    "root_dir = \"/home/jupyter-pjh/dataset_cleaned/\"\n",
    "character_name = \"Bill Williamson\"\n",
    "image_paths = get_image_paths(root_dir, character_name)\n",
    "audio_embeddings = get_audio_embedding(root_dit, character_name)"
   ]
  },
  {
   "cell_type": "code",
   "execution_count": 18,
   "id": "7eba1e65-0110-47dc-8315-019599a92867",
   "metadata": {},
   "outputs": [],
   "source": [
    "num_epochs = 100\n",
    "batch_size = 256\n",
    "selected_embeddings = {}"
   ]
  },
  {
   "cell_type": "code",
   "execution_count": 19,
   "id": "6e438d55-8d56-4973-a1a7-7611e6bd305d",
   "metadata": {},
   "outputs": [
    {
     "ename": "NameError",
     "evalue": "name 'audio_embeddings' is not defined",
     "output_type": "error",
     "traceback": [
      "\u001b[0;31m---------------------------------------------------------------------------\u001b[0m",
      "\u001b[0;31mNameError\u001b[0m                                 Traceback (most recent call last)",
      "Cell \u001b[0;32mIn[19], line 3\u001b[0m\n\u001b[1;32m      1\u001b[0m \u001b[38;5;28;01mfor\u001b[39;00m epoch \u001b[38;5;129;01min\u001b[39;00m \u001b[38;5;28mrange\u001b[39m(num_epochs):\n\u001b[1;32m      2\u001b[0m     selected_embeddings \u001b[38;5;241m=\u001b[39m {}\n\u001b[0;32m----> 3\u001b[0m     \u001b[38;5;28;01mfor\u001b[39;00m character, files \u001b[38;5;129;01min\u001b[39;00m \u001b[43maudio_embeddings\u001b[49m\u001b[38;5;241m.\u001b[39mitems():\n\u001b[1;32m      4\u001b[0m         \u001b[38;5;28;01mif\u001b[39;00m \u001b[38;5;129;01mnot\u001b[39;00m files:\n\u001b[1;32m      5\u001b[0m             \u001b[38;5;28;01mcontinue\u001b[39;00m\n",
      "\u001b[0;31mNameError\u001b[0m: name 'audio_embeddings' is not defined"
     ]
    }
   ],
   "source": [
    "for epoch in range(num_epochs):\n",
    "    selected_embeddings = {}\n",
    "    for character, files in audio_embeddings.items():\n",
    "        if not files:\n",
    "            continue\n",
    "        selected_file = random.choice(files)\n",
    "        selected_embeddings[character] = torch.load(selected_file)\n",
    "\n",
    "    dataset = CustomDataset(image_paths, selected_embeddings)\n",
    "    data_loader = DataLoader(dataset, batch_size=batch_size, shuffle=True)\n",
    "\n",
    "    for images, audio_embedding in data_loader:\n",
    "        encoder.compute_embedding(images)\n",
    "        loss = 1 - criterion(image_features, audio_embedding).mean()\n",
    "        optimizer.zero_grad()\n",
    "        loss.backward()\n",
    "        optimizer.step()"
   ]
  },
  {
   "cell_type": "code",
   "execution_count": null,
   "id": "75ee4b33-49f1-4369-92be-a9180718060a",
   "metadata": {},
   "outputs": [],
   "source": []
  }
 ],
 "metadata": {
  "kernelspec": {
   "display_name": "pjhs_venv",
   "language": "python",
   "name": "pjhsenv"
  },
  "language_info": {
   "codemirror_mode": {
    "name": "ipython",
    "version": 3
   },
   "file_extension": ".py",
   "mimetype": "text/x-python",
   "name": "python",
   "nbconvert_exporter": "python",
   "pygments_lexer": "ipython3",
   "version": "3.11.7"
  }
 },
 "nbformat": 4,
 "nbformat_minor": 5
}
